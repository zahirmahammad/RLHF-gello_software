{
 "cells": [
  {
   "cell_type": "code",
   "execution_count": 2,
   "metadata": {},
   "outputs": [],
   "source": [
    "import cv2\n",
    "import numpy as np\n",
    "import matplotlib.pyplot as plt"
   ]
  },
  {
   "cell_type": "code",
   "execution_count": 4,
   "metadata": {},
   "outputs": [
    {
     "data": {
      "image/png": "[encoded data removed]",
      "text/plain": [
       "<Figure size 640x480 with 1 Axes>"
      ]
     },
     "metadata": {},
     "output_type": "display_data"
    },
    {
     "name": "stdout",
     "output_type": "stream",
     "text": [
      "(480, 640, 3)\n"
     ]
    }
   ],
   "source": [
    "image = cv2.imread('/home/sj/Downloads/images/Copy of left0000.jpg')\n",
    "\n",
    "# Created a empty list to collect all the cetroid coordinates\n",
    "x_centers = []\n",
    "y_centers = []\n",
    "\n",
    "gray_image = cv2.cvtColor(image, cv2.COLOR_RGB2GRAY)\n",
    "\n",
    "non_zero = np.where(gray_image > 200)\n",
    "\n",
    "if np.any(non_zero):\n",
    "    min_x = np.min(non_zero[1])\n",
    "    min_y = np.min(non_zero[0])\n",
    "    max_x = np.max(non_zero[1])\n",
    "    max_y = np.max(non_zero[0])\n",
    "\n",
    "    # Took mean to calculate center pixels\n",
    "    center_x = int((max_x + min_x) / 2)\n",
    "    x_centers.append(center_x)\n",
    "\n",
    "    center_y = int((max_y + min_y) / 2)\n",
    "    y_centers.append(center_y)\n",
    "\n",
    "    # Draws center at the center of the ball in each frame\n",
    "    center = (center_x, center_y)\n",
    "    cv2.circle(gray_image, center, 5, (0, 255, 0), -1)\n",
    "\n",
    "    # image = cv2.resize(image, (84, 84))\n",
    "# cv2.imshow(\"gray_image\", gray_image)\n",
    "# cv2.waitKey(0)\n",
    "# cv2.destroyAllWindows()\n",
    "\n",
    "plt.imshow(non_zero, cmap='gray')\n",
    "plt.show()\n",
    "\n",
    "print(image.shape)\n"
   ]
  },
  {
   "cell_type": "code",
   "execution_count": 17,
   "metadata": {},
   "outputs": [
    {
     "name": "stdout",
     "output_type": "stream",
     "text": [
      "[[ 0.  0. -1.]\n",
      " [ 0.  0. -1.]\n",
      " [ 0.  0. -1.]\n",
      " [ 0.  0. -1.]\n",
      " [ 0.  0.  1.]\n",
      " [ 0.  0.  1.]\n",
      " [ 0.  0.  1.]]\n",
      "(7, 3)\n"
     ]
    }
   ],
   "source": [
    "import numpy as np\n",
    "\n",
    "gl = np.array([-1]*(4) + [1]*3, dtype=np.float32)\n",
    "\n",
    "new = np.zeros((7, 2), dtype=np.float32)\n",
    "\n",
    "stacked = np.hstack((new, gl.reshape(-1, 1)))\n",
    "\n",
    "print(stacked)\n",
    "print(stacked.shape)"
   ]
  },
  {
   "cell_type": "code",
   "execution_count": null,
   "metadata": {},
   "outputs": [],
   "source": []
  },
  {
   "cell_type": "code",
   "execution_count": null,
   "metadata": {},
   "outputs": [],
   "source": []
  }
 ],
 "metadata": {
  "kernelspec": {
   "display_name": "robomimic_env",
   "language": "python",
   "name": "python3"
  },
  "language_info": {
   "codemirror_mode": {
    "name": "ipython",
    "version": 3
   },
   "file_extension": ".py",
   "mimetype": "text/x-python",
   "name": "python",
   "nbconvert_exporter": "python",
   "pygments_lexer": "ipython3",
   "version": "3.9.18"
  }
 },
 "nbformat": 4,
 "nbformat_minor": 2
}
